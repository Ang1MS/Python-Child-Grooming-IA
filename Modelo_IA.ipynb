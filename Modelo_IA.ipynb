{
 "cells": [
  {
   "cell_type": "code",
   "execution_count": 5,
   "id": "a005917b-5dfe-43ff-a9e5-06b5e83e119e",
   "metadata": {},
   "outputs": [
    {
     "name": "stdout",
     "output_type": "stream",
     "text": [
      "Datos de entrenamiento:\n"
     ]
    },
    {
     "data": {
      "text/html": [
       "<div>\n",
       "<style scoped>\n",
       "    .dataframe tbody tr th:only-of-type {\n",
       "        vertical-align: middle;\n",
       "    }\n",
       "\n",
       "    .dataframe tbody tr th {\n",
       "        vertical-align: top;\n",
       "    }\n",
       "\n",
       "    .dataframe thead th {\n",
       "        text-align: right;\n",
       "    }\n",
       "</style>\n",
       "<table border=\"1\" class=\"dataframe\">\n",
       "  <thead>\n",
       "    <tr style=\"text-align: right;\">\n",
       "      <th></th>\n",
       "      <th>autor</th>\n",
       "      <th>mensaje</th>\n",
       "      <th>timestamp</th>\n",
       "    </tr>\n",
       "  </thead>\n",
       "  <tbody>\n",
       "    <tr>\n",
       "      <th>0</th>\n",
       "      <td>97964e7a9e8eb9cf78f2e4d7b2ff34c7</td>\n",
       "      <td>Hola.</td>\n",
       "      <td>03:20</td>\n",
       "    </tr>\n",
       "    <tr>\n",
       "      <th>1</th>\n",
       "      <td>0158d0d6781fc4d493f243d4caa49747</td>\n",
       "      <td>hi.</td>\n",
       "      <td>03:20</td>\n",
       "    </tr>\n",
       "    <tr>\n",
       "      <th>2</th>\n",
       "      <td>0158d0d6781fc4d493f243d4caa49747</td>\n",
       "      <td>whats up?</td>\n",
       "      <td>03:20</td>\n",
       "    </tr>\n",
       "    <tr>\n",
       "      <th>3</th>\n",
       "      <td>97964e7a9e8eb9cf78f2e4d7b2ff34c7</td>\n",
       "      <td>not a ton.</td>\n",
       "      <td>03:20</td>\n",
       "    </tr>\n",
       "    <tr>\n",
       "      <th>4</th>\n",
       "      <td>97964e7a9e8eb9cf78f2e4d7b2ff34c7</td>\n",
       "      <td>you?</td>\n",
       "      <td>03:20</td>\n",
       "    </tr>\n",
       "  </tbody>\n",
       "</table>\n",
       "</div>"
      ],
      "text/plain": [
       "                              autor     mensaje timestamp\n",
       "0  97964e7a9e8eb9cf78f2e4d7b2ff34c7       Hola.     03:20\n",
       "1  0158d0d6781fc4d493f243d4caa49747         hi.     03:20\n",
       "2  0158d0d6781fc4d493f243d4caa49747   whats up?     03:20\n",
       "3  97964e7a9e8eb9cf78f2e4d7b2ff34c7  not a ton.     03:20\n",
       "4  97964e7a9e8eb9cf78f2e4d7b2ff34c7        you?     03:20"
      ]
     },
     "metadata": {},
     "output_type": "display_data"
    },
    {
     "name": "stdout",
     "output_type": "stream",
     "text": [
      "\n",
      "Datos de test:\n"
     ]
    },
    {
     "data": {
      "text/html": [
       "<div>\n",
       "<style scoped>\n",
       "    .dataframe tbody tr th:only-of-type {\n",
       "        vertical-align: middle;\n",
       "    }\n",
       "\n",
       "    .dataframe tbody tr th {\n",
       "        vertical-align: top;\n",
       "    }\n",
       "\n",
       "    .dataframe thead th {\n",
       "        text-align: right;\n",
       "    }\n",
       "</style>\n",
       "<table border=\"1\" class=\"dataframe\">\n",
       "  <thead>\n",
       "    <tr style=\"text-align: right;\">\n",
       "      <th></th>\n",
       "      <th>autor</th>\n",
       "      <th>mensaje</th>\n",
       "      <th>timestamp</th>\n",
       "    </tr>\n",
       "  </thead>\n",
       "  <tbody>\n",
       "    <tr>\n",
       "      <th>0</th>\n",
       "      <td>0a39f78bcb297ab0ebe8a29c28bfed89</td>\n",
       "      <td>bugmail: [Bug 6978] New: Mark eof-terminated s...</td>\n",
       "      <td>15:24</td>\n",
       "    </tr>\n",
       "    <tr>\n",
       "      <th>1</th>\n",
       "      <td>60659cfda992013e610f285c46692d28</td>\n",
       "      <td>Henri, can I ask you a Firefox build question ...</td>\n",
       "      <td>15:32</td>\n",
       "    </tr>\n",
       "    <tr>\n",
       "      <th>2</th>\n",
       "      <td>b8810fee2f4a71f849f3f7409546d1d9</td>\n",
       "      <td>60659cfda992013e610f285c46692d28: sure, but I ...</td>\n",
       "      <td>15:34</td>\n",
       "    </tr>\n",
       "    <tr>\n",
       "      <th>3</th>\n",
       "      <td>60659cfda992013e610f285c46692d28</td>\n",
       "      <td>It appears the build runs through, it creates ...</td>\n",
       "      <td>15:35</td>\n",
       "    </tr>\n",
       "    <tr>\n",
       "      <th>4</th>\n",
       "      <td>60659cfda992013e610f285c46692d28</td>\n",
       "      <td>when I start it, I get my standard install of ...</td>\n",
       "      <td>15:35</td>\n",
       "    </tr>\n",
       "  </tbody>\n",
       "</table>\n",
       "</div>"
      ],
      "text/plain": [
       "                              autor  \\\n",
       "0  0a39f78bcb297ab0ebe8a29c28bfed89   \n",
       "1  60659cfda992013e610f285c46692d28   \n",
       "2  b8810fee2f4a71f849f3f7409546d1d9   \n",
       "3  60659cfda992013e610f285c46692d28   \n",
       "4  60659cfda992013e610f285c46692d28   \n",
       "\n",
       "                                             mensaje timestamp  \n",
       "0  bugmail: [Bug 6978] New: Mark eof-terminated s...     15:24  \n",
       "1  Henri, can I ask you a Firefox build question ...     15:32  \n",
       "2  60659cfda992013e610f285c46692d28: sure, but I ...     15:34  \n",
       "3  It appears the build runs through, it creates ...     15:35  \n",
       "4  when I start it, I get my standard install of ...     15:35  "
      ]
     },
     "metadata": {},
     "output_type": "display_data"
    }
   ],
   "source": [
    "# Fase 1 Recopilacion de los datos\n",
    "import pandas as pd\n",
    "\n",
    "# Cargar los datasets\n",
    "df_train = pd.read_csv(\"pan12-sexual-predator-identification-training-corpus-2012-05-01.csv\")\n",
    "df_test = pd.read_csv(\"pan12-sexual-predator-identification-test-corpus-2012-05-17.csv\")\n",
    "\n",
    "# Mostrar las primeras filas de cada uno de los datasets\n",
    "print(\"Datos de entrenamiento:\")\n",
    "display(df_train.head())\n",
    "\n",
    "print(\"\\nDatos de test:\")\n",
    "display(df_test.head())\n"
   ]
  },
  {
   "cell_type": "code",
   "execution_count": 3,
   "id": "26959bd7-0cce-43c5-a6d3-9a17a83bcdef",
   "metadata": {},
   "outputs": [
    {
     "name": "stdout",
     "output_type": "stream",
     "text": [
      "Training:\n",
      "<class 'pandas.core.frame.DataFrame'>\n",
      "RangeIndex: 903607 entries, 0 to 903606\n",
      "Data columns (total 3 columns):\n",
      " #   Column     Non-Null Count   Dtype \n",
      "---  ------     --------------   ----- \n",
      " 0   autor      903607 non-null  object\n",
      " 1   mensaje    900628 non-null  object\n",
      " 2   timestamp  903607 non-null  object\n",
      "dtypes: object(3)\n",
      "memory usage: 20.7+ MB\n",
      "None\n",
      "\n",
      "Test:\n",
      "<class 'pandas.core.frame.DataFrame'>\n",
      "RangeIndex: 2058781 entries, 0 to 2058780\n",
      "Data columns (total 3 columns):\n",
      " #   Column     Dtype \n",
      "---  ------     ----- \n",
      " 0   autor      object\n",
      " 1   mensaje    object\n",
      " 2   timestamp  object\n",
      "dtypes: object(3)\n",
      "memory usage: 47.1+ MB\n",
      "None\n"
     ]
    }
   ],
   "source": [
    "# Información general para entender que columnnas tenemos\n",
    "print(\"Training:\")\n",
    "print(df_train.info())\n",
    "print(\"\\nTest:\")\n",
    "print(df_test.info())\n"
   ]
  },
  {
   "cell_type": "code",
   "execution_count": null,
   "id": "87d611b0-ee75-49cb-bdfe-f3629300c309",
   "metadata": {},
   "outputs": [
    {
     "name": "stdout",
     "output_type": "stream",
     "text": [
      "['00851429b21722a4d62f63a328c601ca', '00aac10b39157377c79b7700b7b832bf', '02800e11fdb1b43595303709f2b38f8c', '03957f443c7790f9642db14bbc59df11', '04bfa707d3313179ef48177d7270938e', '04d42f7bb1eb41605dea74a8711f9fd0', '0526eb9cfcee11c0036f3fa6d11158d5', '053364a8ce3df76dadd5fe75fb056f72', '0599cd3f7fc15849844468b0702ff593', '0b6b05c740a1bf50ca7f9a461598a3b9']\n"
     ]
    }
   ],
   "source": [
    "# Leer archivo con IDs de groomers\n",
    "with open(\"pan12-sexual-predator-identification-training-corpus-predators-2012-05-01.txt\", \"r\") as f:\n",
    "    lista_predators = f.read().splitlines()\n",
    "\n",
    "# Ver los primeros IDs\n",
    "print(lista_predators[:10])"
   ]
  },
  {
   "cell_type": "code",
   "execution_count": 6,
   "id": "5a5ca175-fd5c-48c5-a378-e3120f9ac8ba",
   "metadata": {},
   "outputs": [
    {
     "data": {
      "text/html": [
       "<div>\n",
       "<style scoped>\n",
       "    .dataframe tbody tr th:only-of-type {\n",
       "        vertical-align: middle;\n",
       "    }\n",
       "\n",
       "    .dataframe tbody tr th {\n",
       "        vertical-align: top;\n",
       "    }\n",
       "\n",
       "    .dataframe thead th {\n",
       "        text-align: right;\n",
       "    }\n",
       "</style>\n",
       "<table border=\"1\" class=\"dataframe\">\n",
       "  <thead>\n",
       "    <tr style=\"text-align: right;\">\n",
       "      <th></th>\n",
       "      <th>autor</th>\n",
       "      <th>clase</th>\n",
       "    </tr>\n",
       "  </thead>\n",
       "  <tbody>\n",
       "    <tr>\n",
       "      <th>0</th>\n",
       "      <td>97964e7a9e8eb9cf78f2e4d7b2ff34c7</td>\n",
       "      <td>0</td>\n",
       "    </tr>\n",
       "    <tr>\n",
       "      <th>1</th>\n",
       "      <td>0158d0d6781fc4d493f243d4caa49747</td>\n",
       "      <td>0</td>\n",
       "    </tr>\n",
       "    <tr>\n",
       "      <th>2</th>\n",
       "      <td>0158d0d6781fc4d493f243d4caa49747</td>\n",
       "      <td>0</td>\n",
       "    </tr>\n",
       "    <tr>\n",
       "      <th>3</th>\n",
       "      <td>97964e7a9e8eb9cf78f2e4d7b2ff34c7</td>\n",
       "      <td>0</td>\n",
       "    </tr>\n",
       "    <tr>\n",
       "      <th>4</th>\n",
       "      <td>97964e7a9e8eb9cf78f2e4d7b2ff34c7</td>\n",
       "      <td>0</td>\n",
       "    </tr>\n",
       "    <tr>\n",
       "      <th>5</th>\n",
       "      <td>0158d0d6781fc4d493f243d4caa49747</td>\n",
       "      <td>0</td>\n",
       "    </tr>\n",
       "    <tr>\n",
       "      <th>6</th>\n",
       "      <td>97964e7a9e8eb9cf78f2e4d7b2ff34c7</td>\n",
       "      <td>0</td>\n",
       "    </tr>\n",
       "    <tr>\n",
       "      <th>7</th>\n",
       "      <td>97964e7a9e8eb9cf78f2e4d7b2ff34c7</td>\n",
       "      <td>0</td>\n",
       "    </tr>\n",
       "    <tr>\n",
       "      <th>8</th>\n",
       "      <td>0158d0d6781fc4d493f243d4caa49747</td>\n",
       "      <td>0</td>\n",
       "    </tr>\n",
       "    <tr>\n",
       "      <th>9</th>\n",
       "      <td>97964e7a9e8eb9cf78f2e4d7b2ff34c7</td>\n",
       "      <td>0</td>\n",
       "    </tr>\n",
       "  </tbody>\n",
       "</table>\n",
       "</div>"
      ],
      "text/plain": [
       "                              autor  clase\n",
       "0  97964e7a9e8eb9cf78f2e4d7b2ff34c7      0\n",
       "1  0158d0d6781fc4d493f243d4caa49747      0\n",
       "2  0158d0d6781fc4d493f243d4caa49747      0\n",
       "3  97964e7a9e8eb9cf78f2e4d7b2ff34c7      0\n",
       "4  97964e7a9e8eb9cf78f2e4d7b2ff34c7      0\n",
       "5  0158d0d6781fc4d493f243d4caa49747      0\n",
       "6  97964e7a9e8eb9cf78f2e4d7b2ff34c7      0\n",
       "7  97964e7a9e8eb9cf78f2e4d7b2ff34c7      0\n",
       "8  0158d0d6781fc4d493f243d4caa49747      0\n",
       "9  97964e7a9e8eb9cf78f2e4d7b2ff34c7      0"
      ]
     },
     "execution_count": 6,
     "metadata": {},
     "output_type": "execute_result"
    }
   ],
   "source": [
    "# Crear columna \"clase\" con 1 si el autor está en la lista, 0 si no\n",
    "df_train[\"clase\"] = df_train[\"autor\"].apply(lambda x: 1 if str(x) in lista_predators else 0)\n",
    "\n",
    "# Verificar que se ha añadido bien\n",
    "df_train[[\"autor\", \"clase\"]].head(10)"
   ]
  },
  {
   "cell_type": "markdown",
   "id": "1e3a3ea1",
   "metadata": {},
   "source": [
    "# Fase 2: Preprocesado de los datos"
   ]
  },
  {
   "cell_type": "code",
   "execution_count": 6,
   "id": "6491ed54-1378-4bf7-89c8-2d5377cc9266",
   "metadata": {},
   "outputs": [],
   "source": [
    "import nltk\n",
    "\n",
    "# Descargar recursos necesarios\n",
    "nltk.download('punkt', quiet=True) # punkt: para dividir el texto en palabras.\n",
    "nltk.download('stopwords', quiet=True) # stopwords: lista de palabras comunes que no aportan mucho (como “el”, “la”, “de”, “que”…).\n",
    "\n",
    "from nltk.corpus import stopwords\n",
    "import string\n",
    "\n",
    "\n"
   ]
  },
  {
   "cell_type": "code",
   "execution_count": 7,
   "id": "ed42a753-a07d-4811-a785-76a7277b092d",
   "metadata": {},
   "outputs": [
    {
     "data": {
      "text/html": [
       "<div>\n",
       "<style scoped>\n",
       "    .dataframe tbody tr th:only-of-type {\n",
       "        vertical-align: middle;\n",
       "    }\n",
       "\n",
       "    .dataframe tbody tr th {\n",
       "        vertical-align: top;\n",
       "    }\n",
       "\n",
       "    .dataframe thead th {\n",
       "        text-align: right;\n",
       "    }\n",
       "</style>\n",
       "<table border=\"1\" class=\"dataframe\">\n",
       "  <thead>\n",
       "    <tr style=\"text-align: right;\">\n",
       "      <th></th>\n",
       "      <th>mensaje</th>\n",
       "      <th>mensaje_procesado</th>\n",
       "    </tr>\n",
       "  </thead>\n",
       "  <tbody>\n",
       "    <tr>\n",
       "      <th>0</th>\n",
       "      <td>Hola.</td>\n",
       "      <td>hola</td>\n",
       "    </tr>\n",
       "    <tr>\n",
       "      <th>1</th>\n",
       "      <td>hi.</td>\n",
       "      <td>hi</td>\n",
       "    </tr>\n",
       "    <tr>\n",
       "      <th>2</th>\n",
       "      <td>whats up?</td>\n",
       "      <td>whats</td>\n",
       "    </tr>\n",
       "    <tr>\n",
       "      <th>3</th>\n",
       "      <td>not a ton.</td>\n",
       "      <td>ton</td>\n",
       "    </tr>\n",
       "    <tr>\n",
       "      <th>4</th>\n",
       "      <td>you?</td>\n",
       "      <td></td>\n",
       "    </tr>\n",
       "    <tr>\n",
       "      <th>5</th>\n",
       "      <td>same.  being lazy.  M or f?</td>\n",
       "      <td>lazy f</td>\n",
       "    </tr>\n",
       "    <tr>\n",
       "      <th>6</th>\n",
       "      <td>F.</td>\n",
       "      <td>f</td>\n",
       "    </tr>\n",
       "    <tr>\n",
       "      <th>7</th>\n",
       "      <td>Ditto, I&amp;apos;ve done absolutely nothing with ...</td>\n",
       "      <td>ditto iaposve done absolutely nothing day besi...</td>\n",
       "    </tr>\n",
       "    <tr>\n",
       "      <th>8</th>\n",
       "      <td>M here.  Just got home from weekend trip.  Tired.</td>\n",
       "      <td>got home weekend trip tired</td>\n",
       "    </tr>\n",
       "    <tr>\n",
       "      <th>9</th>\n",
       "      <td>Oh, cool. Family thing?</td>\n",
       "      <td>oh cool family thing</td>\n",
       "    </tr>\n",
       "  </tbody>\n",
       "</table>\n",
       "</div>"
      ],
      "text/plain": [
       "                                             mensaje  \\\n",
       "0                                              Hola.   \n",
       "1                                                hi.   \n",
       "2                                          whats up?   \n",
       "3                                         not a ton.   \n",
       "4                                               you?   \n",
       "5                        same.  being lazy.  M or f?   \n",
       "6                                                 F.   \n",
       "7  Ditto, I&apos;ve done absolutely nothing with ...   \n",
       "8  M here.  Just got home from weekend trip.  Tired.   \n",
       "9                            Oh, cool. Family thing?   \n",
       "\n",
       "                                   mensaje_procesado  \n",
       "0                                               hola  \n",
       "1                                                 hi  \n",
       "2                                              whats  \n",
       "3                                                ton  \n",
       "4                                                     \n",
       "5                                             lazy f  \n",
       "6                                                  f  \n",
       "7  ditto iaposve done absolutely nothing day besi...  \n",
       "8                        got home weekend trip tired  \n",
       "9                               oh cool family thing  "
      ]
     },
     "execution_count": 7,
     "metadata": {},
     "output_type": "execute_result"
    }
   ],
   "source": [
    "# Lista de stopwords en inglés\n",
    "stop_words = set(stopwords.words('english'))\n",
    "\n",
    "# Función para limpiar el texto\n",
    "def limpiar_texto(texto):\n",
    "    texto = str(texto).lower()\n",
    "    texto = texto.translate(str.maketrans('', '', string.punctuation))\n",
    "    tokens = texto.split()\n",
    "    tokens_filtrados = [word for word in tokens if word not in stop_words]\n",
    "    return \" \".join(tokens_filtrados)\n",
    "\n",
    "\n",
    "# Aplicar la limpieza al dataset\n",
    "df_train[\"mensaje_procesado\"] = df_train[\"mensaje\"].apply(limpiar_texto)\n",
    "\n",
    "# Ver el resultado\n",
    "df_train[[\"mensaje\", \"mensaje_procesado\"]].head(10)"
   ]
  },
  {
   "cell_type": "markdown",
   "id": "3a5c0e6b-6e75-47cb-8987-399f1374f9d7",
   "metadata": {},
   "source": [
    "# Fase 3 Vectorizar el texto y entrenar el modelo"
   ]
  },
  {
   "cell_type": "markdown",
   "id": "eaf701bd",
   "metadata": {},
   "source": [
    "### Paso 1: Convertir Texto en vectores con TF_IDF"
   ]
  },
  {
   "cell_type": "code",
   "execution_count": 12,
   "id": "b664d21e-cba5-4874-b0d1-b3c159910009",
   "metadata": {},
   "outputs": [],
   "source": [
    "from sklearn.feature_extraction.text import TfidfVectorizer\n",
    "\n",
    "# Crear vectorizador\n",
    "vectorizer = TfidfVectorizer(max_features=5000)\n",
    "\n",
    "# Ajustar y transformar el texto de entrenamiento\n",
    "X = vectorizer.fit_transform(df_train[\"mensaje_procesado\"])\n",
    "\n",
    "# Etiquetas\n",
    "y = df_train[\"clase\"]\n"
   ]
  },
  {
   "cell_type": "markdown",
   "id": "6121c996",
   "metadata": {},
   "source": [
    "### Paso 2: Dividir en entrenamiento y validación"
   ]
  },
  {
   "cell_type": "code",
   "execution_count": 14,
   "id": "e899e4ad",
   "metadata": {},
   "outputs": [],
   "source": [
    "from sklearn.model_selection import train_test_split\n",
    "\n",
    "X_train, X_val, y_train, y_val = train_test_split(X, y, test_size=0.2, random_state=42)\n"
   ]
  },
  {
   "cell_type": "markdown",
   "id": "8ddb6014",
   "metadata": {},
   "source": [
    "### PASO 3.1: Entrenar modelo de IA (Naïve Bayes)"
   ]
  },
  {
   "cell_type": "code",
   "execution_count": 17,
   "id": "7929a689",
   "metadata": {},
   "outputs": [
    {
     "name": "stdout",
     "output_type": "stream",
     "text": [
      "Accuracy: 0.9549971779860781\n",
      "\n",
      "Matriz de confusión:\n",
      " [[172458     75]\n",
      " [  8058    131]]\n",
      "\n",
      "Reporte de clasificación:\n",
      "               precision    recall  f1-score   support\n",
      "\n",
      "           0       0.96      1.00      0.98    172533\n",
      "           1       0.64      0.02      0.03      8189\n",
      "\n",
      "    accuracy                           0.95    180722\n",
      "   macro avg       0.80      0.51      0.50    180722\n",
      "weighted avg       0.94      0.95      0.93    180722\n",
      "\n"
     ]
    }
   ],
   "source": [
    "from sklearn.naive_bayes import MultinomialNB\n",
    "from sklearn.metrics import classification_report, confusion_matrix, accuracy_score\n",
    "\n",
    "# Crear y entrenar el modelo\n",
    "modelo = MultinomialNB()\n",
    "modelo.fit(X_train, y_train)\n",
    "\n",
    "# Predecir en el conjunto de validación\n",
    "y_pred_nb = modelo.predict(X_val)\n",
    "\n",
    "# Evaluar\n",
    "print(\"Accuracy:\", accuracy_score(y_val, y_pred_nb))\n",
    "print(\"\\nMatriz de confusión:\\n\", confusion_matrix(y_val, y_pred_nb))\n",
    "print(\"\\nReporte de clasificación:\\n\", classification_report(y_val, y_pred_nb))\n"
   ]
  },
  {
   "cell_type": "markdown",
   "id": "596cdd5c",
   "metadata": {},
   "source": [
    "### Paso 3.2: Entrenar modelo de IA (Random Forest)\n"
   ]
  },
  {
   "cell_type": "code",
   "execution_count": null,
   "id": "d5b9530a",
   "metadata": {},
   "outputs": [
    {
     "name": "stdout",
     "output_type": "stream",
     "text": [
      "Dimensión de X_train: (722885, 5000)\n"
     ]
    }
   ],
   "source": [
    "print(\"Dimensión de X_train:\", X_train.shape)\n"
   ]
  },
  {
   "cell_type": "code",
   "execution_count": null,
   "id": "55d43811",
   "metadata": {},
   "outputs": [
    {
     "name": "stdout",
     "output_type": "stream",
     "text": [
      "🌲 Random Forest - Accuracy: 0.954366374874116\n",
      "\n",
      "Matriz de confusión (Random Forest):\n",
      " [[172017    516]\n",
      " [  7731    458]]\n",
      "\n",
      "Reporte de clasificación (Random Forest):\n",
      "               precision    recall  f1-score   support\n",
      "\n",
      "           0       0.96      1.00      0.98    172533\n",
      "           1       0.47      0.06      0.10      8189\n",
      "\n",
      "    accuracy                           0.95    180722\n",
      "   macro avg       0.71      0.53      0.54    180722\n",
      "weighted avg       0.93      0.95      0.94    180722\n",
      "\n"
     ]
    }
   ],
   "source": [
    "# Seleccionar solo los primeros 10.000 mensajes\n",
    "X_sub = X_train\n",
    "y_sub = y_train\n",
    "\n",
    "from sklearn.ensemble import RandomForestClassifier\n",
    "\n",
    "modelo_rf = RandomForestClassifier(n_estimators=50, random_state=42)\n",
    "modelo_rf.fit(X_sub, y_sub)\n",
    "\n",
    "# Predecimos sobre el mismo subconjunto\n",
    "y_pred_rf = modelo_rf.predict(X_val)\n",
    "\n",
    "# Evaluar el modelo usando el subconjunto correspondiente de y_val\n",
    "y_val_subset = y_val\n",
    "print(\"Random Forest - Accuracy:\", accuracy_score(y_val_subset, y_pred_rf))\n",
    "print(\"\\nMatriz de confusión (Random Forest):\\n\", confusion_matrix(y_val_subset, y_pred_rf))\n",
    "print(\"\\nReporte de clasificación (Random Forest):\\n\", classification_report(y_val_subset, y_pred_rf))\n",
    "\n"
   ]
  },
  {
   "cell_type": "markdown",
   "id": "101511e9",
   "metadata": {},
   "source": [
    "### Paso 3.3: Entrenar modelo de IA (SVM Support Vector Machine)\n"
   ]
  },
  {
   "cell_type": "code",
   "execution_count": null,
   "id": "9b0e935e",
   "metadata": {},
   "outputs": [
    {
     "name": "stdout",
     "output_type": "stream",
     "text": [
      "🔎 SVM - Accuracy: 0.9551410453624904\n",
      "\n",
      "Matriz de confusión (SVM):\n",
      " [[172461     72]\n",
      " [  8035    154]]\n",
      "\n",
      "Reporte de clasificación (SVM):\n",
      "               precision    recall  f1-score   support\n",
      "\n",
      "           0       0.96      1.00      0.98    172533\n",
      "           1       0.68      0.02      0.04      8189\n",
      "\n",
      "    accuracy                           0.96    180722\n",
      "   macro avg       0.82      0.51      0.51    180722\n",
      "weighted avg       0.94      0.96      0.93    180722\n",
      "\n"
     ]
    }
   ],
   "source": [
    "from sklearn.svm import LinearSVC\n",
    "\n",
    "# Crear el modelo SVM\n",
    "modelo_svm = LinearSVC()\n",
    "\n",
    "# Entrenar con los datos\n",
    "modelo_svm.fit(X_train, y_train)\n",
    "\n",
    "# Predecir\n",
    "y_pred_svm = modelo_svm.predict(X_val)\n",
    "\n",
    "# Evaluar\n",
    "print(\"SVM - Accuracy:\", accuracy_score(y_val, y_pred_svm))\n",
    "print(\"\\nMatriz de confusión (SVM):\\n\", confusion_matrix(y_val, y_pred_svm))\n",
    "print(\"\\nReporte de clasificación (SVM):\\n\", classification_report(y_val, y_pred_svm))"
   ]
  },
  {
   "cell_type": "code",
   "execution_count": null,
   "id": "eda680ad",
   "metadata": {},
   "outputs": [
    {
     "data": {
      "image/png": "[encoded data removed]",
      "text/plain": [
       "<Figure size 640x480 with 1 Axes>"
      ]
     },
     "metadata": {},
     "output_type": "display_data"
    }
   ],
   "source": [
    "\n",
    "import pandas as pd\n",
    "import matplotlib.pyplot as plt\n",
    "\n",
    "# Resultados de cada modelo\n",
    "report_rf = classification_report(y_val, y_pred_rf, output_dict=True)\n",
    "report_svm = classification_report(y_val, y_pred_svm, output_dict=True)\n",
    "report_nb = classification_report(y_val, y_pred_nb, output_dict=True)\n",
    "\n",
    "# Extraer F1-score (macro avg) para cada modelo\n",
    "f1_scores = {\n",
    "    \"Random Forest\": report_rf[\"macro avg\"][\"f1-score\"],\n",
    "    \"SVM\": report_svm[\"macro avg\"][\"f1-score\"],\n",
    "    \"Naive Bayes\": report_nb[\"macro avg\"][\"f1-score\"]\n",
    "}\n",
    "\n",
    "# Convertir a DataFrame para facilidad\n",
    "df_scores = pd.DataFrame(f1_scores.items(), columns=[\"Modelo\", \"F1-Score\"])\n",
    "\n",
    "# Visualizar resultados\n",
    "plt.bar(df_scores[\"Modelo\"], df_scores[\"F1-Score\"], color=['blue', 'orange', 'green'])\n",
    "plt.ylabel(\"F1-Score\")\n",
    "plt.title(\"Comparación de F1-Scores entre Modelos\")\n",
    "plt.show()"
   ]
  },
  {
   "cell_type": "markdown",
   "id": "72b9cf06",
   "metadata": {},
   "source": [
    "# Paso 4: Poner el modelo a prueba con el archivo de test\n",
    "El archivo test del dataset PAN12, no contiene etiquetas sobre que IDs corresponden a groomers, debido a que este fue diseñado para testear los modelos en una competición, donde las predicciones que se obtenian de este archivo test eran posteriormente revisadas por evaluadores. "
   ]
  },
  {
   "cell_type": "code",
   "execution_count": 26,
   "id": "1592a51a",
   "metadata": {},
   "outputs": [],
   "source": [
    "# Aplicar limpieza al test\n",
    "df_test[\"mensaje_procesado\"] = df_test[\"mensaje\"].apply(limpiar_texto)\n",
    "\n",
    "# Transformar el texto con el vectorizador TF-IDF ya entrenado\n",
    "X_test = vectorizer.transform(df_test[\"mensaje_procesado\"])\n",
    "\n",
    "# Predicción con Naïve Bayes\n",
    "y_test_nb = modelo.predict(X_test)\n",
    "\n",
    "# Predicción con SVM\n",
    "y_test_svm = modelo_svm.predict(X_test)\n",
    "\n",
    "# Predicción con Random Forest (solo si lo entrenaste con el dataset completo)\n",
    "y_test_rf = modelo_rf.predict(X_test)\n",
    "\n"
   ]
  },
  {
   "cell_type": "markdown",
   "id": "17485479",
   "metadata": {},
   "source": [
    "## Opciones de visulización de los resultados\n",
    "Como se ha mencionado anteriormemte, lo único que podemos hacer es visualizar los resultados de diversas formas para una posterior revisión. \n",
    "### Opción 1: Ver ejemplos de mensajes con predicción positiva (posible grooming)"
   ]
  },
  {
   "cell_type": "code",
   "execution_count": 28,
   "id": "d8566225",
   "metadata": {},
   "outputs": [
    {
     "data": {
      "text/html": [
       "<div>\n",
       "<style scoped>\n",
       "    .dataframe tbody tr th:only-of-type {\n",
       "        vertical-align: middle;\n",
       "    }\n",
       "\n",
       "    .dataframe tbody tr th {\n",
       "        vertical-align: top;\n",
       "    }\n",
       "\n",
       "    .dataframe thead th {\n",
       "        text-align: right;\n",
       "    }\n",
       "</style>\n",
       "<table border=\"1\" class=\"dataframe\">\n",
       "  <thead>\n",
       "    <tr style=\"text-align: right;\">\n",
       "      <th></th>\n",
       "      <th>autor</th>\n",
       "      <th>mensaje</th>\n",
       "      <th>prediccion</th>\n",
       "    </tr>\n",
       "  </thead>\n",
       "  <tbody>\n",
       "    <tr>\n",
       "      <th>1938773</th>\n",
       "      <td>00d36f64d208c95eeb70af477dfb368a</td>\n",
       "      <td>hey sweetie</td>\n",
       "      <td>1</td>\n",
       "    </tr>\n",
       "    <tr>\n",
       "      <th>625608</th>\n",
       "      <td>2fa5341dd4b4e7e4682714d632c04e1a</td>\n",
       "      <td>okay hun ;)</td>\n",
       "      <td>1</td>\n",
       "    </tr>\n",
       "    <tr>\n",
       "      <th>494932</th>\n",
       "      <td>befd81c00fb58b4f4b06e1b70c44ed22</td>\n",
       "      <td>well baby I guess I talk to you tomorrow try t...</td>\n",
       "      <td>1</td>\n",
       "    </tr>\n",
       "    <tr>\n",
       "      <th>1042887</th>\n",
       "      <td>e03aa9707bd13f180c517ae1a47e9da2</td>\n",
       "      <td>were u busy tonite?</td>\n",
       "      <td>1</td>\n",
       "    </tr>\n",
       "    <tr>\n",
       "      <th>308901</th>\n",
       "      <td>87eb0510ab6472e60cd0927b83efd695</td>\n",
       "      <td>Our chat today has got me thinking... you said...</td>\n",
       "      <td>1</td>\n",
       "    </tr>\n",
       "    <tr>\n",
       "      <th>62562</th>\n",
       "      <td>fadde1cb70225e72e78a5836425471f5</td>\n",
       "      <td>your not talkin to me hun</td>\n",
       "      <td>1</td>\n",
       "    </tr>\n",
       "    <tr>\n",
       "      <th>1630485</th>\n",
       "      <td>191f7112854f2bc78a73c6496cbfdea1</td>\n",
       "      <td>And his dreams</td>\n",
       "      <td>1</td>\n",
       "    </tr>\n",
       "    <tr>\n",
       "      <th>408686</th>\n",
       "      <td>d9a3b807fed99050e9dee44d00c60221</td>\n",
       "      <td>i want to see what they look like hun</td>\n",
       "      <td>1</td>\n",
       "    </tr>\n",
       "    <tr>\n",
       "      <th>1615895</th>\n",
       "      <td>3d3760cef49636d3746be30522b4897d</td>\n",
       "      <td>big truck right?</td>\n",
       "      <td>1</td>\n",
       "    </tr>\n",
       "    <tr>\n",
       "      <th>1690570</th>\n",
       "      <td>c936ffd9889f3eaca95042f95649ba46</td>\n",
       "      <td>if u want me 2 call leave me ur numbr and ill ...</td>\n",
       "      <td>1</td>\n",
       "    </tr>\n",
       "    <tr>\n",
       "      <th>2057793</th>\n",
       "      <td>41e9fb56564ec12597cbb36786d47f6d</td>\n",
       "      <td>i hope u want a hug from me</td>\n",
       "      <td>1</td>\n",
       "    </tr>\n",
       "    <tr>\n",
       "      <th>910125</th>\n",
       "      <td>b9ef3c2a374674db0a88fbad82e34529</td>\n",
       "      <td>where are you cutie?</td>\n",
       "      <td>1</td>\n",
       "    </tr>\n",
       "    <tr>\n",
       "      <th>368080</th>\n",
       "      <td>fe784e376f0fec7691b114f16d7f953e</td>\n",
       "      <td>i love u, and i will miss u, and let me know w...</td>\n",
       "      <td>1</td>\n",
       "    </tr>\n",
       "    <tr>\n",
       "      <th>765640</th>\n",
       "      <td>e53b6f51b31fda31b1c9db5731a1c414</td>\n",
       "      <td>bath or shower</td>\n",
       "      <td>1</td>\n",
       "    </tr>\n",
       "    <tr>\n",
       "      <th>1963282</th>\n",
       "      <td>2b888117f9d7cb7f18cec180c150461f</td>\n",
       "      <td>u far sweetie</td>\n",
       "      <td>1</td>\n",
       "    </tr>\n",
       "    <tr>\n",
       "      <th>1462462</th>\n",
       "      <td>3efb341d7e9fb27ef5db457aa7978005</td>\n",
       "      <td>actually sweetie</td>\n",
       "      <td>1</td>\n",
       "    </tr>\n",
       "    <tr>\n",
       "      <th>1022760</th>\n",
       "      <td>a1a8e6a5db3374ac3254c9113bde167f</td>\n",
       "      <td>what u thinkin bout hun?</td>\n",
       "      <td>1</td>\n",
       "    </tr>\n",
       "    <tr>\n",
       "      <th>181530</th>\n",
       "      <td>7b0c80c33906e696cf4ed37bb244730f</td>\n",
       "      <td>ok then the shower</td>\n",
       "      <td>1</td>\n",
       "    </tr>\n",
       "    <tr>\n",
       "      <th>1226503</th>\n",
       "      <td>48b9682a5513419503df7f6f089c2d5d</td>\n",
       "      <td>u make me so nervous!</td>\n",
       "      <td>1</td>\n",
       "    </tr>\n",
       "    <tr>\n",
       "      <th>159430</th>\n",
       "      <td>86acb75ad942a8df784694ad33c83068</td>\n",
       "      <td>ok hun</td>\n",
       "      <td>1</td>\n",
       "    </tr>\n",
       "  </tbody>\n",
       "</table>\n",
       "</div>"
      ],
      "text/plain": [
       "                                    autor  \\\n",
       "1938773  00d36f64d208c95eeb70af477dfb368a   \n",
       "625608   2fa5341dd4b4e7e4682714d632c04e1a   \n",
       "494932   befd81c00fb58b4f4b06e1b70c44ed22   \n",
       "1042887  e03aa9707bd13f180c517ae1a47e9da2   \n",
       "308901   87eb0510ab6472e60cd0927b83efd695   \n",
       "62562    fadde1cb70225e72e78a5836425471f5   \n",
       "1630485  191f7112854f2bc78a73c6496cbfdea1   \n",
       "408686   d9a3b807fed99050e9dee44d00c60221   \n",
       "1615895  3d3760cef49636d3746be30522b4897d   \n",
       "1690570  c936ffd9889f3eaca95042f95649ba46   \n",
       "2057793  41e9fb56564ec12597cbb36786d47f6d   \n",
       "910125   b9ef3c2a374674db0a88fbad82e34529   \n",
       "368080   fe784e376f0fec7691b114f16d7f953e   \n",
       "765640   e53b6f51b31fda31b1c9db5731a1c414   \n",
       "1963282  2b888117f9d7cb7f18cec180c150461f   \n",
       "1462462  3efb341d7e9fb27ef5db457aa7978005   \n",
       "1022760  a1a8e6a5db3374ac3254c9113bde167f   \n",
       "181530   7b0c80c33906e696cf4ed37bb244730f   \n",
       "1226503  48b9682a5513419503df7f6f089c2d5d   \n",
       "159430   86acb75ad942a8df784694ad33c83068   \n",
       "\n",
       "                                                   mensaje  prediccion  \n",
       "1938773                                        hey sweetie           1  \n",
       "625608                                         okay hun ;)           1  \n",
       "494932   well baby I guess I talk to you tomorrow try t...           1  \n",
       "1042887                                were u busy tonite?           1  \n",
       "308901   Our chat today has got me thinking... you said...           1  \n",
       "62562                            your not talkin to me hun           1  \n",
       "1630485                                     And his dreams           1  \n",
       "408686               i want to see what they look like hun           1  \n",
       "1615895                                   big truck right?           1  \n",
       "1690570  if u want me 2 call leave me ur numbr and ill ...           1  \n",
       "2057793                        i hope u want a hug from me           1  \n",
       "910125                                where are you cutie?           1  \n",
       "368080   i love u, and i will miss u, and let me know w...           1  \n",
       "765640                                      bath or shower           1  \n",
       "1963282                                      u far sweetie           1  \n",
       "1462462                                   actually sweetie           1  \n",
       "1022760                           what u thinkin bout hun?           1  \n",
       "181530                                  ok then the shower           1  \n",
       "1226503                              u make me so nervous!           1  \n",
       "159430                                              ok hun           1  "
      ]
     },
     "execution_count": 28,
     "metadata": {},
     "output_type": "execute_result"
    }
   ],
   "source": [
    "# Añadir predicción del modelo final que elijas (ejemplo: SVM)\n",
    "df_test[\"prediccion\"] = y_test_svm  # O y_test_nb / y_test_rf\n",
    "\n",
    "# Ver mensajes sospechosos\n",
    "df_test[df_test[\"prediccion\"] == 1].sample(20)[[\"autor\", \"mensaje\", \"prediccion\"]]\n"
   ]
  },
  {
   "cell_type": "markdown",
   "id": "e61db62c",
   "metadata": {},
   "source": [
    "Aquí podemos ver si el modelo está siendo razonable con respecto a resultados reales."
   ]
  },
  {
   "cell_type": "markdown",
   "id": "b08c3a83",
   "metadata": {},
   "source": [
    "### Opción 2: Contar cuántos usuarios han sido marcados como depredadores"
   ]
  },
  {
   "cell_type": "code",
   "execution_count": 31,
   "id": "30c9de3e",
   "metadata": {},
   "outputs": [
    {
     "name": "stdout",
     "output_type": "stream",
     "text": [
      "Usuarios marcados como depredadores: 803 / 218702\n"
     ]
    }
   ],
   "source": [
    "# Usuarios únicos predichos como depredadores\n",
    "usuarios_marcados = df_test[df_test[\"prediccion\"] == 1][\"autor\"].nunique()\n",
    "total_usuarios = df_test[\"autor\"].nunique()\n",
    "\n",
    "print(f\"Usuarios marcados como depredadores: {usuarios_marcados} / {total_usuarios}\")\n"
   ]
  },
  {
   "cell_type": "markdown",
   "id": "7664d932",
   "metadata": {},
   "source": [
    "### Opción 3: Guardar resultados para revisión o análisis posterior"
   ]
  },
  {
   "cell_type": "code",
   "execution_count": null,
   "id": "deb9d05a",
   "metadata": {},
   "outputs": [
    {
     "name": "stdout",
     "output_type": "stream",
     "text": [
      "📁 Resultados guardados como 'resultados_test_sin_etiquetas.csv'\n"
     ]
    }
   ],
   "source": [
    "df_test[[\"autor\", \"mensaje\", \"mensaje_procesado\", \"prediccion\"]].to_csv(\"resultados_test_sin_etiquetas.csv\", index=False)\n",
    "print(\"Resultados guardados como 'resultados_test_sin_etiquetas.csv'\")"
   ]
  },
  {
   "cell_type": "code",
   "execution_count": null,
   "id": "31c222a1-503b-43f7-aadc-f059ec46d703",
   "metadata": {},
   "outputs": [
    {
     "name": "stdout",
     "output_type": "stream",
     "text": [
      "✅ Resultados guardados en 'resultados_modelos_basicos.csv'\n"
     ]
    },
    {
     "data": {
      "text/html": [
       "<div>\n",
       "<style scoped>\n",
       "    .dataframe tbody tr th:only-of-type {\n",
       "        vertical-align: middle;\n",
       "    }\n",
       "\n",
       "    .dataframe tbody tr th {\n",
       "        vertical-align: top;\n",
       "    }\n",
       "\n",
       "    .dataframe thead th {\n",
       "        text-align: right;\n",
       "    }\n",
       "</style>\n",
       "<table border=\"1\" class=\"dataframe\">\n",
       "  <thead>\n",
       "    <tr style=\"text-align: right;\">\n",
       "      <th></th>\n",
       "      <th>modelo</th>\n",
       "      <th>accuracy</th>\n",
       "      <th>recall_clase_1</th>\n",
       "      <th>f1_clase_1</th>\n",
       "    </tr>\n",
       "  </thead>\n",
       "  <tbody>\n",
       "    <tr>\n",
       "      <th>0</th>\n",
       "      <td>Naive Bayes</td>\n",
       "      <td>0.954997</td>\n",
       "      <td>0.015997</td>\n",
       "      <td>0.031209</td>\n",
       "    </tr>\n",
       "    <tr>\n",
       "      <th>1</th>\n",
       "      <td>SVM</td>\n",
       "      <td>0.955141</td>\n",
       "      <td>0.018806</td>\n",
       "      <td>0.036601</td>\n",
       "    </tr>\n",
       "    <tr>\n",
       "      <th>2</th>\n",
       "      <td>Random Forest</td>\n",
       "      <td>0.954366</td>\n",
       "      <td>0.055929</td>\n",
       "      <td>0.099967</td>\n",
       "    </tr>\n",
       "  </tbody>\n",
       "</table>\n",
       "</div>"
      ],
      "text/plain": [
       "          modelo  accuracy  recall_clase_1  f1_clase_1\n",
       "0    Naive Bayes  0.954997        0.015997    0.031209\n",
       "1            SVM  0.955141        0.018806    0.036601\n",
       "2  Random Forest  0.954366        0.055929    0.099967"
      ]
     },
     "metadata": {},
     "output_type": "display_data"
    }
   ],
   "source": [
    "import pandas as pd\n",
    "from sklearn.metrics import accuracy_score, f1_score, recall_score\n",
    "\n",
    "# Supongamos que ya tienes estas variables:\n",
    "# y_val: etiquetas verdaderas\n",
    "# y_pred_nb, y_pred_svm, y_pred_rf: predicciones de cada modelo\n",
    "\n",
    "# Calculamos métricas para cada modelo\n",
    "resultados_modelos = {\n",
    "    \"modelo\": [],\n",
    "    \"accuracy\": [],\n",
    "    \"recall_clase_1\": [],\n",
    "    \"f1_clase_1\": []\n",
    "}\n",
    "\n",
    "# Naïve Bayes\n",
    "resultados_modelos[\"modelo\"].append(\"Naive Bayes\")\n",
    "resultados_modelos[\"accuracy\"].append(accuracy_score(y_val, y_pred_nb))\n",
    "resultados_modelos[\"recall_clase_1\"].append(recall_score(y_val, y_pred_nb))\n",
    "resultados_modelos[\"f1_clase_1\"].append(f1_score(y_val, y_pred_nb))\n",
    "\n",
    "# SVM\n",
    "resultados_modelos[\"modelo\"].append(\"SVM\")\n",
    "resultados_modelos[\"accuracy\"].append(accuracy_score(y_val, y_pred_svm))\n",
    "resultados_modelos[\"recall_clase_1\"].append(recall_score(y_val, y_pred_svm))\n",
    "resultados_modelos[\"f1_clase_1\"].append(f1_score(y_val, y_pred_svm))\n",
    "\n",
    "# Random Forest\n",
    "resultados_modelos[\"modelo\"].append(\"Random Forest\")\n",
    "resultados_modelos[\"accuracy\"].append(accuracy_score(y_val, y_pred_rf))\n",
    "resultados_modelos[\"recall_clase_1\"].append(recall_score(y_val, y_pred_rf))\n",
    "resultados_modelos[\"f1_clase_1\"].append(f1_score(y_val, y_pred_rf))\n",
    "\n",
    "# Convertimos a DataFrame y guardamos\n",
    "df_resultados = pd.DataFrame(resultados_modelos)\n",
    "df_resultados.to_csv(\"resultados_modelos_basicos.csv\", index=False)\n",
    "\n",
    "print(\"Resultados guardados en 'resultados_modelos_basicos.csv'\")\n",
    "display(df_resultados)\n"
   ]
  }
 ],
 "metadata": {
  "kernelspec": {
   "display_name": "base",
   "language": "python",
   "name": "python3"
  },
  "language_info": {
   "codemirror_mode": {
    "name": "ipython",
    "version": 3
   },
   "file_extension": ".py",
   "mimetype": "text/x-python",
   "name": "python",
   "nbconvert_exporter": "python",
   "pygments_lexer": "ipython3",
   "version": "3.12.7"
  }
 },
 "nbformat": 4,
 "nbformat_minor": 5
}
